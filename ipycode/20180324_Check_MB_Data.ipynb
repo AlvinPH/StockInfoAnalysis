{
 "cells": [
  {
   "cell_type": "code",
   "execution_count": 1,
   "metadata": {},
   "outputs": [],
   "source": [
    "# The balance of margin loan and stock loan   for OTC\n",
    "import pandas as pd\n",
    "import numpy as np\n",
    "from pandas import DataFrame\n",
    "\n",
    "# from pandas_datareader import data\n",
    "from datetime import datetime, timedelta\n",
    "\n",
    "from sqlalchemy import create_engine\n",
    "\n",
    "import requests\n",
    "import urllib\n",
    "\n",
    "import re\n",
    "import os\n",
    "import logging\n",
    "import time\n",
    "import sys\n",
    "\n",
    "from IPython.display import clear_output\n",
    "\n",
    "sys.path.append('..')\n",
    "\n",
    "import Crawler as cw"
   ]
  },
  {
   "cell_type": "code",
   "execution_count": 2,
   "metadata": {},
   "outputs": [],
   "source": [
    "test = cw.StockData(tse_file='../StockInfo/', otc_file='../StockInfo_otc/', \n",
    "                   ind_file='../IndexData/', pay_file='../IndexPayData/')"
   ]
  },
  {
   "cell_type": "code",
   "execution_count": 3,
   "metadata": {},
   "outputs": [],
   "source": [
    "def mb_data_check(df):\n",
    "#     float_col = ['資買', '資賣', '現償',\n",
    "#                 '前資餘額', '資餘額', '資限額', '資使用率(%)',\n",
    "#                 '資屬證金', '券買', '券賣', '券償', '前券餘額',\n",
    "#                 '券餘額', '券限額', '券使用率(%)', '券屬證金',\n",
    "#                 '資券相抵']\n",
    "    float_col = ['資買', '資賣', '現償',\n",
    "                '前資餘額', '資餘額', '資限額', '資使用率(%)',\n",
    "                '券買', '券賣', '券償', '前券餘額',\n",
    "                '券餘額', '券限額', '券使用率(%)']\n",
    "    df = df[float_col].astype(float)\n",
    "    if not (df['前資餘額'] + df['資買'] - df['資賣'] - df['現償'] == df['資餘額']).all():\n",
    "        return '資餘額 Error'\n",
    "    if not (df['前券餘額'] + df['券賣'] - df['券買'] - df['券償'] == df['券餘額']).all():\n",
    "        return '資餘額 Error'\n",
    "    return \"OK\""
   ]
  },
  {
   "cell_type": "code",
   "execution_count": 6,
   "metadata": {},
   "outputs": [],
   "source": [
    "for code in test.otc_mb_register.index:\n",
    "    df = test.get_mb(code)\n",
    "    result = mb_data_check(df)\n",
    "    if result.endswith('Error'):\n",
    "        print(\"Error \" + code)\n",
    "        break"
   ]
  },
  {
   "cell_type": "code",
   "execution_count": 7,
   "metadata": {},
   "outputs": [
    {
     "name": "stdout",
     "output_type": "stream",
     "text": [
      "OK\n"
     ]
    }
   ],
   "source": [
    "print('OK')"
   ]
  },
  {
   "cell_type": "code",
   "execution_count": null,
   "metadata": {},
   "outputs": [],
   "source": [
    "float_col = ['資買', '資賣', '現償',\n",
    "                '前資餘額', '資餘額', '資限額', '資使用率(%)',\n",
    "                '資屬證金', '券買', '券賣', '券償', '前券餘額',\n",
    "                '券餘額', '券限額', '券使用率(%)', '券屬證金',\n",
    "                '資券相抵']\n",
    "for col in float_col:\n",
    "    try:\n",
    "        df[col] = df[col].astype(float)\n",
    "    except:\n",
    "        print(col)"
   ]
  },
  {
   "cell_type": "code",
   "execution_count": null,
   "metadata": {},
   "outputs": [],
   "source": []
  }
 ],
 "metadata": {
  "kernelspec": {
   "display_name": "Python [conda root]",
   "language": "python",
   "name": "conda-root-py"
  },
  "language_info": {
   "codemirror_mode": {
    "name": "ipython",
    "version": 3
   },
   "file_extension": ".py",
   "mimetype": "text/x-python",
   "name": "python",
   "nbconvert_exporter": "python",
   "pygments_lexer": "ipython3",
   "version": "3.5.2"
  }
 },
 "nbformat": 4,
 "nbformat_minor": 2
}
