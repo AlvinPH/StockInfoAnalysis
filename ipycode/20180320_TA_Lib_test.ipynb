{
 "cells": [
  {
   "cell_type": "code",
   "execution_count": 1,
   "metadata": {},
   "outputs": [],
   "source": [
    "import talib"
   ]
  },
  {
   "cell_type": "code",
   "execution_count": 2,
   "metadata": {},
   "outputs": [],
   "source": [
    "import numpy as np"
   ]
  },
  {
   "cell_type": "code",
   "execution_count": 3,
   "metadata": {},
   "outputs": [],
   "source": [
    "close = np.random.random(100)"
   ]
  },
  {
   "cell_type": "code",
   "execution_count": 4,
   "metadata": {},
   "outputs": [],
   "source": [
    "output = talib.SMA(close)"
   ]
  },
  {
   "cell_type": "code",
   "execution_count": 5,
   "metadata": {},
   "outputs": [
    {
     "data": {
      "text/plain": [
       "array([        nan,         nan,         nan,         nan,         nan,\n",
       "               nan,         nan,         nan,         nan,         nan,\n",
       "               nan,         nan,         nan,         nan,         nan,\n",
       "               nan,         nan,         nan,         nan,         nan,\n",
       "               nan,         nan,         nan,         nan,         nan,\n",
       "               nan,         nan,         nan,         nan,  0.48241239,\n",
       "        0.46528642,  0.47667691,  0.47182513,  0.46794325,  0.46216714,\n",
       "        0.46898863,  0.45484314,  0.4556674 ,  0.44902283,  0.45699005,\n",
       "        0.46614142,  0.45194504,  0.46428045,  0.4502151 ,  0.45741926,\n",
       "        0.47638134,  0.4532518 ,  0.47513533,  0.47466406,  0.47701404,\n",
       "        0.48696897,  0.49130684,  0.47619763,  0.48281565,  0.49582656,\n",
       "        0.51130486,  0.50494322,  0.49374359,  0.50311772,  0.4889751 ,\n",
       "        0.49911655,  0.48269373,  0.49558983,  0.48620328,  0.50462774,\n",
       "        0.50487013,  0.51273252,  0.49006986,  0.48260645,  0.4838404 ,\n",
       "        0.47288772,  0.47711621,  0.47067673,  0.4899914 ,  0.49342667,\n",
       "        0.4835888 ,  0.48527533,  0.46755106,  0.48640193,  0.48172686,\n",
       "        0.45769368,  0.46022578,  0.46634864,  0.44605944,  0.44464224,\n",
       "        0.41592601,  0.4067317 ,  0.41916934,  0.41185393,  0.42741774,\n",
       "        0.44283679,  0.43448226,  0.42217403,  0.42327439,  0.4324602 ,\n",
       "        0.42019054,  0.43263621,  0.42516239,  0.42845035,  0.42633916])"
      ]
     },
     "execution_count": 5,
     "metadata": {},
     "output_type": "execute_result"
    }
   ],
   "source": [
    "output"
   ]
  },
  {
   "cell_type": "code",
   "execution_count": 7,
   "metadata": {
    "scrolled": true
   },
   "outputs": [
    {
     "data": {
      "text/plain": [
       "array([        nan,         nan,         nan,         nan,  0.49442698,\n",
       "        0.44875153,  0.45142506,  0.58526632,  0.4940856 ,  0.59710121,\n",
       "        0.61236844,  0.64904335,  0.57566118,  0.5800961 ,  0.51973405,\n",
       "        0.45208119,  0.48926972,  0.39828024,  0.32969214,  0.27832346,\n",
       "        0.37895492,  0.31896061,  0.44000416,  0.51281019,  0.52125903,\n",
       "        0.4780477 ,  0.48813206,  0.41791509,  0.42231677,  0.48362959,\n",
       "        0.42151472,  0.46323065,  0.41382382,  0.46865873,  0.37295548,\n",
       "        0.47096481,  0.32042246,  0.4883199 ,  0.38056307,  0.56603869,\n",
       "        0.59528519,  0.63165477,  0.62733947,  0.58724971,  0.52230928,\n",
       "        0.51352072,  0.49711025,  0.46340952,  0.47638588,  0.39589215,\n",
       "        0.44248069,  0.54729088,  0.446378  ,  0.56171976,  0.63413416,\n",
       "        0.62406303,  0.56995034,  0.52319081,  0.54412915,  0.44252086,\n",
       "        0.34838487,  0.3297337 ,  0.42490127,  0.3671721 ,  0.46687131,\n",
       "        0.50548628,  0.50065515,  0.45520005,  0.35898211,  0.44131463,\n",
       "        0.40339072,  0.41795695,  0.5109807 ,  0.6315594 ,  0.57982689,\n",
       "        0.57772721,  0.54606497,  0.44465555,  0.45484908,  0.32569328,\n",
       "        0.28710998,  0.39699356,  0.43916343,  0.31966481,  0.41162646,\n",
       "        0.37345698,  0.24898587,  0.24011506,  0.33889606,  0.33917387,\n",
       "        0.50984955,  0.49623704,  0.44292941,  0.43569488,  0.49712606,\n",
       "        0.36960883,  0.48957887,  0.47313019,  0.39003789,  0.40458838])"
      ]
     },
     "execution_count": 7,
     "metadata": {},
     "output_type": "execute_result"
    }
   ],
   "source": [
    "talib.SMA(close, timeperiod=5)"
   ]
  },
  {
   "cell_type": "code",
   "execution_count": 9,
   "metadata": {},
   "outputs": [
    {
     "name": "stdout",
     "output_type": "stream",
     "text": [
      "['CDL2CROWS', 'CDL3BLACKCROWS', 'CDL3INSIDE', 'CDL3LINESTRIKE', 'CDL3OUTSIDE', 'CDL3STARSINSOUTH', 'CDL3WHITESOLDIERS', 'CDLABANDONEDBABY', 'CDLADVANCEBLOCK', 'CDLBELTHOLD', 'CDLBREAKAWAY', 'CDLCLOSINGMARUBOZU', 'CDLCONCEALBABYSWALL', 'CDLCOUNTERATTACK', 'CDLDARKCLOUDCOVER', 'CDLDOJI', 'CDLDOJISTAR', 'CDLDRAGONFLYDOJI', 'CDLENGULFING', 'CDLEVENINGDOJISTAR', 'CDLEVENINGSTAR', 'CDLGAPSIDESIDEWHITE', 'CDLGRAVESTONEDOJI', 'CDLHAMMER', 'CDLHANGINGMAN', 'CDLHARAMI', 'CDLHARAMICROSS', 'CDLHIGHWAVE', 'CDLHIKKAKE', 'CDLHIKKAKEMOD', 'CDLHOMINGPIGEON', 'CDLIDENTICAL3CROWS', 'CDLINNECK', 'CDLINVERTEDHAMMER', 'CDLKICKING', 'CDLKICKINGBYLENGTH', 'CDLLADDERBOTTOM', 'CDLLONGLEGGEDDOJI', 'CDLLONGLINE', 'CDLMARUBOZU', 'CDLMATCHINGLOW', 'CDLMATHOLD', 'CDLMORNINGDOJISTAR', 'CDLMORNINGSTAR', 'CDLONNECK', 'CDLPIERCING', 'CDLRICKSHAWMAN', 'CDLRISEFALL3METHODS', 'CDLSEPARATINGLINES', 'CDLSHOOTINGSTAR', 'CDLSHORTLINE', 'CDLSPINNINGTOP', 'CDLSTALLEDPATTERN', 'CDLSTICKSANDWICH', 'CDLTAKURI', 'CDLTASUKIGAP', 'CDLTHRUSTING', 'CDLTRISTAR', 'CDLUNIQUE3RIVER', 'CDLUPSIDEGAP2CROWS', 'CDLXSIDEGAP3METHODS', 'ADX', 'ADXR', 'APO', 'AROON', 'AROONOSC', 'BOP', 'CCI', 'CMO', 'DX', 'MACD', 'MACDEXT', 'MACDFIX', 'MFI', 'MINUS_DI', 'MINUS_DM', 'MOM', 'PLUS_DI', 'PLUS_DM', 'PPO', 'ROC', 'ROCP', 'ROCR', 'ROCR100', 'RSI', 'STOCH', 'STOCHF', 'STOCHRSI', 'TRIX', 'ULTOSC', 'WILLR', 'BBANDS', 'DEMA', 'EMA', 'HT_TRENDLINE', 'KAMA', 'MA', 'MAMA', 'MAVP', 'MIDPOINT', 'MIDPRICE', 'SAR', 'SAREXT', 'SMA', 'T3', 'TEMA', 'TRIMA', 'WMA', 'BETA', 'CORREL', 'LINEARREG', 'LINEARREG_ANGLE', 'LINEARREG_INTERCEPT', 'LINEARREG_SLOPE', 'STDDEV', 'TSF', 'VAR', 'HT_DCPERIOD', 'HT_DCPHASE', 'HT_PHASOR', 'HT_SINE', 'HT_TRENDMODE', 'ADD', 'DIV', 'MAX', 'MAXINDEX', 'MIN', 'MININDEX', 'MINMAX', 'MINMAXINDEX', 'MULT', 'SUB', 'SUM', 'ACOS', 'ASIN', 'ATAN', 'CEIL', 'COS', 'COSH', 'EXP', 'FLOOR', 'LN', 'LOG10', 'SIN', 'SINH', 'SQRT', 'TAN', 'TANH', 'AVGPRICE', 'MEDPRICE', 'TYPPRICE', 'WCLPRICE', 'ATR', 'NATR', 'TRANGE', 'AD', 'ADOSC', 'OBV']\n"
     ]
    }
   ],
   "source": [
    "print(talib.get_functions())"
   ]
  },
  {
   "cell_type": "code",
   "execution_count": null,
   "metadata": {},
   "outputs": [],
   "source": []
  }
 ],
 "metadata": {
  "anaconda-cloud": {},
  "kernelspec": {
   "display_name": "Python [conda root]",
   "language": "python",
   "name": "conda-root-py"
  },
  "language_info": {
   "codemirror_mode": {
    "name": "ipython",
    "version": 3
   },
   "file_extension": ".py",
   "mimetype": "text/x-python",
   "name": "python",
   "nbconvert_exporter": "python",
   "pygments_lexer": "ipython3",
   "version": "3.5.2"
  }
 },
 "nbformat": 4,
 "nbformat_minor": 2
}
