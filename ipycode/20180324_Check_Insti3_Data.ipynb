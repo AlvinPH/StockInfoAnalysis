{
 "cells": [
  {
   "cell_type": "code",
   "execution_count": 1,
   "metadata": {},
   "outputs": [],
   "source": [
    "# The balance of margin loan and stock loan   for OTC\n",
    "import pandas as pd\n",
    "import numpy as np\n",
    "from pandas import DataFrame\n",
    "\n",
    "# from pandas_datareader import data\n",
    "from datetime import datetime, timedelta\n",
    "\n",
    "from sqlalchemy import create_engine\n",
    "\n",
    "import requests\n",
    "import urllib\n",
    "\n",
    "import re\n",
    "import os\n",
    "import logging\n",
    "import time\n",
    "import sys\n",
    "\n",
    "from IPython.display import clear_output\n",
    "\n",
    "sys.path.append('..')\n",
    "\n",
    "import Crawler as cw"
   ]
  },
  {
   "cell_type": "code",
   "execution_count": 2,
   "metadata": {},
   "outputs": [],
   "source": [
    "test = cw.StockData(tse_file='../StockInfo/', otc_file='../StockInfo_otc/', \n",
    "                   ind_file='../IndexData/', pay_file='../IndexPayData/')"
   ]
  },
  {
   "cell_type": "code",
   "execution_count": 3,
   "metadata": {},
   "outputs": [],
   "source": [
    "def insti3_data_check(df):\n",
    "    # df = test.get_insti3('0015')\n",
    "    float_col = ['外資買', '外資賣', '外資買賣',\n",
    "                 '投信買', '投信賣', '投信買賣',\n",
    "                 '自營買(自行)', '自營賣(自行)', '自營買賣(自行)',\n",
    "                 '自營買(避險)', '自營賣(避險)', '自營買賣(避險)',\n",
    "                 '自營買', '自營賣', '自營買賣', '三大買賣']\n",
    "    df = df[float_col].astype(float)\n",
    "    if ~(((df['外資買'] - df['外資賣']) == df['外資買賣']).all()):\n",
    "        return '外資 Error'\n",
    "    if ~(((df['投信買'] - df['投信賣']) == df['投信買賣']).all()):\n",
    "        return '投信 Error'\n",
    "    if ~(((df['自營買(自行)'] - df['自營賣(自行)']) == df['自營買賣(自行)']).all()):\n",
    "        return '自營買賣(自行) Error'\n",
    "    if ~(((df['自營買(避險)'] - df['自營賣(避險)']) == df['自營買賣(避險)']).all()):\n",
    "        return '自營買賣(避險) Error'\n",
    "    if ~(((df['自營買'] - df['自營賣']) == df['自營買賣']).all()):\n",
    "        return '自營買賣 Error'\n",
    "    if ~(((df['自營買賣(自行)'] + df['自營買賣(避險)']) == df['自營買賣']).all()):\n",
    "        return '自營買賣 Error'\n",
    "    if ~(((df['外資買賣'] + df['投信買賣'] + df['自營買賣']) == df['三大買賣']).all()):\n",
    "        return '三大買賣 Error'\n",
    "    return 'OK'"
   ]
  },
  {
   "cell_type": "code",
   "execution_count": 4,
   "metadata": {},
   "outputs": [],
   "source": [
    "for code in test.otc_insti3_register.index:\n",
    "    df = test.get_insti3(code)\n",
    "    df = df[df['date'] > datetime(2007, 4, 20)]\n",
    "    if df.empty:\n",
    "        continue\n",
    "    if len(df['code'].iloc[0])  == 6:\n",
    "        continue\n",
    "    result = insti3_data_check(df)\n",
    "    if result.endswith('Error'):\n",
    "        print(\"Error \" + code)\n",
    "        break"
   ]
  },
  {
   "cell_type": "code",
   "execution_count": 5,
   "metadata": {},
   "outputs": [
    {
     "name": "stdout",
     "output_type": "stream",
     "text": [
      "OK\n"
     ]
    }
   ],
   "source": [
    "print('OK')"
   ]
  },
  {
   "cell_type": "code",
   "execution_count": null,
   "metadata": {},
   "outputs": [],
   "source": [
    "df.empty"
   ]
  },
  {
   "cell_type": "code",
   "execution_count": null,
   "metadata": {},
   "outputs": [],
   "source": [
    "df = test.get_insti3('734808')\n",
    "dfb = df.copy()\n",
    "df.head()\n"
   ]
  },
  {
   "cell_type": "code",
   "execution_count": null,
   "metadata": {},
   "outputs": [],
   "source": [
    "float_col = ['外資買', '外資賣', '外資買賣',\n",
    "                 '投信買', '投信賣', '投信買賣',\n",
    "                 '自營買(自行)', '自營賣(自行)', '自營買賣(自行)',\n",
    "                 '自營買(避險)', '自營賣(避險)', '自營買賣(避險)',\n",
    "                 '自營買', '自營賣', '自營買賣', '三大買賣']\n",
    "df = df[float_col].astype(float)\n",
    "if ~(((df['外資買'] - df['外資賣']) == df['外資買賣']).all()):\n",
    "    print('外資 Error')\n",
    "if ~(((df['投信買'] - df['投信賣']) == df['投信買賣']).all()):\n",
    "    print('投信 Error')\n",
    "if ~(((df['自營買(自行)'] - df['自營賣(自行)']) == df['自營買賣(自行)']).all()):\n",
    "    print('自營買賣(自行) Error')\n",
    "if ~(((df['自營買(避險)'] - df['自營賣(避險)']) == df['自營買賣(避險)']).all()):\n",
    "    print('自營買賣(避險) Error')\n",
    "if ~(((df['自營買'] - df['自營賣']) == df['自營買賣']).all()):\n",
    "    print('自營買賣 Error')\n",
    "if ~(((df['自營買賣(自行)'] + df['自營買賣(避險)']) == df['自營買賣']).all()):\n",
    "    print('自營買賣 Error')\n",
    "if ~(((df['外資買賣'] + df['投信買賣'] + df['自營買賣']) == df['三大買賣']).all()):\n",
    "    print('三大買賣 Error')\n"
   ]
  },
  {
   "cell_type": "code",
   "execution_count": null,
   "metadata": {},
   "outputs": [],
   "source": [
    "spec_date = datetime(2018, 2, 2)\n",
    "df = cw.get_otc_insti3_p3(spec_date)"
   ]
  },
  {
   "cell_type": "code",
   "execution_count": null,
   "metadata": {},
   "outputs": [],
   "source": [
    "df[df[0]=='734808']"
   ]
  },
  {
   "cell_type": "code",
   "execution_count": null,
   "metadata": {},
   "outputs": [],
   "source": []
  }
 ],
 "metadata": {
  "anaconda-cloud": {},
  "kernelspec": {
   "display_name": "Python [conda root]",
   "language": "python",
   "name": "conda-root-py"
  },
  "language_info": {
   "codemirror_mode": {
    "name": "ipython",
    "version": 3
   },
   "file_extension": ".py",
   "mimetype": "text/x-python",
   "name": "python",
   "nbconvert_exporter": "python",
   "pygments_lexer": "ipython3",
   "version": "3.5.2"
  }
 },
 "nbformat": 4,
 "nbformat_minor": 2
}
